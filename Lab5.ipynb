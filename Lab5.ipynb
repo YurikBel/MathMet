{
 "cells": [
  {
   "cell_type": "code",
   "execution_count": 1,
   "id": "17620532",
   "metadata": {},
   "outputs": [
    {
     "name": "stdout",
     "output_type": "stream",
     "text": [
      "9.802960494069208e-05 103 50\n",
      "0.9159658490148919\n"
     ]
    }
   ],
   "source": [
    "import numpy as np\n",
    "\n",
    "res = 1\n",
    "i = 3\n",
    "iter = 0\n",
    "while res >= 0.0001:\n",
    "    res = 1 / (i ** 2)\n",
    "    i += 2\n",
    "    iter += 1\n",
    "print(res, i, iter)\n",
    "\n",
    "\n",
    "def fn(t):\n",
    "    return np.arctan(t) / t\n",
    "\n",
    "def f(t):\n",
    "    res = 0\n",
    "    for i in range(1, 50):\n",
    "        res += (-1) ** (i - 1) * ((t ** (2 * i - 2)) / (2 * i - 1))\n",
    "    return res\n",
    "\n",
    "\n",
    "a, b = 0, 1\n",
    "\n",
    "\n",
    "def trap(a, b, h):\n",
    "    s = 0.5 * (1 + f(b))\n",
    "    x = a + h\n",
    "    while x <= b - h:\n",
    "        s += fn(x)\n",
    "        x += h\n",
    "    return h * s\n",
    "\n",
    "\n",
    "print(trap(a, b, 0.0001))"
   ]
  },
  {
   "cell_type": "code",
   "execution_count": null,
   "id": "d9774d5d",
   "metadata": {},
   "outputs": [],
   "source": []
  }
 ],
 "metadata": {
  "kernelspec": {
   "display_name": "Python 3 (ipykernel)",
   "language": "python",
   "name": "python3"
  },
  "language_info": {
   "codemirror_mode": {
    "name": "ipython",
    "version": 3
   },
   "file_extension": ".py",
   "mimetype": "text/x-python",
   "name": "python",
   "nbconvert_exporter": "python",
   "pygments_lexer": "ipython3",
   "version": "3.10.7"
  }
 },
 "nbformat": 4,
 "nbformat_minor": 5
}
